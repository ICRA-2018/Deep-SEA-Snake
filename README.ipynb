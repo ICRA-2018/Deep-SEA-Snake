{
 "cells": [
  {
   "cell_type": "markdown",
   "metadata": {},
   "source": [
    "# Deep-SEA-Snake\n",
    "Reinforcement learning on a series elastic actuated snake robot\n",
    "\n",
    "Database used for offline learning and videos of the results:\n",
    "[here](https://drive.google.com/drive/folders/0B7U-QvG8MT1qdFhvYzRNVWtjQlk?usp=sharing)\n",
    "\n",
    "### File list\n",
    "\n",
    "- CompliantSnake0.py: State of the art compliant controller with 6 windows - used to\n",
    "  generate offline data.\n",
    "- CompliantSnake.py: Snake controller running the learned model stored in\n",
    "  \"model_offlineA3C\"\n",
    "- Results: Videos and Optitrack logs of trial runs, and scripts to plot the\n",
    "  results.\n",
    "- A3C.ipnyb: IPython notebook which runs the A3C algorithm with 6 workers\n",
    "  on the offline database p_experiments.snake located [here](https://drive.google.com/drive/folders/0B7U-QvG8MT1qdFhvYzRNVWtjQlk?usp=sharing)\n",
    "### Requirements\n",
    "- Numpy\n",
    "- Tensorflow\n",
    "- matplotlib\n",
    "\n",
    "**Note: The module \"hebiapi\" is currently not publicly available, but it is\n",
    "only used for sending and recieving low-level joint information to the\n",
    "robot.\n",
    "## Contact:\n",
    "\n",
    "[Guillaume Sartoretti](gsartore@andrew.cmu.edu)\n",
    "\n",
    "[William Paivine](wjp@andrew.cmu.edu)\n",
    "\n",
    "[Yunfei Shi](yunfei.shi@connect.polyu.hk)"
   ]
  }
 ],

 "metadata": {
  "kernelspec": {
   "display_name": "Bash",
   "language": "bash",
   "name": "bash"
  },
  "language_info": {
   "codemirror_mode": "shell",
   "file_extension": ".sh",
   "mimetype": "text/x-sh",
   "name": "bash"
  }
 },
 "nbformat": 4,
 "nbformat_minor": 2
}
